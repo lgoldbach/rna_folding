{
 "cells": [
  {
   "cell_type": "code",
   "execution_count": 1,
   "metadata": {},
   "outputs": [],
   "source": [
    "import pickle\n",
    "import matplotlib.pyplot as plt\n",
    "import numpy as np\n",
    "from rna_folding.base_pairing import BasePairing\n",
    "from rna_folding.mapping_functions import nussinov\n",
    "\n"
   ]
  },
  {
   "cell_type": "code",
   "execution_count": 10,
   "metadata": {},
   "outputs": [],
   "source": [
    "# Load data\n",
    "bp2_gt_per_ph = pickle.load(open(\"../experiments/RNA12/suboptimal2_same_randomranking_compare_to_ref/bp_graph2/analysis/gt_per_ph.pickle\", \"rb\"))\n",
    "bp2_ph_per_gt = pickle.load(open(\"../experiments/RNA12/suboptimal2_same_randomranking_compare_to_ref/bp_graph2/analysis/ph_per_gt.pickle\", \"rb\"))\n",
    "\n",
    "bp7_gt_per_ph = pickle.load(open(\"../experiments/RNA12/suboptimal2_same_randomranking_compare_to_ref/bp_graph7/analysis/gt_per_ph.pickle\", \"rb\"))\n",
    "bp7_ph_per_gt = pickle.load(open(\"../experiments/RNA12/suboptimal2_same_randomranking_compare_to_ref/bp_graph7/analysis/ph_per_gt.pickle\", \"rb\"))\n",
    "\n",
    "# sort based on dict values\n",
    "bp2_sorted_genotypes_by_phenotypes = sorted(bp2_ph_per_gt.items(), key=lambda x:x[1])\n",
    "bp7_sorted_genotypes_by_phenotypes = sorted(bp7_ph_per_gt.items(), key=lambda x:x[1])\n",
    "\n",
    "with open(\"../experiments/RNA12/suboptimal2_same_randomranking_compare_to_ref/phenotype_ranking1.txt\", \"r\") as f:\n",
    "    phenotype_ranking = [line.strip() for line in f]"
   ]
  },
  {
   "cell_type": "code",
   "execution_count": 3,
   "metadata": {},
   "outputs": [],
   "source": [
    "genotypes = np.loadtxt(\"../experiments/RNA12/suboptimal2_same_randomranking_compare_to_ref/genotypes.txt\", dtype=\"str\")"
   ]
  },
  {
   "cell_type": "code",
   "execution_count": 4,
   "metadata": {},
   "outputs": [],
   "source": [
    "# Find one where 2 is below 10 and 7 is above 50\n",
    "below10_above50 = []\n",
    "# Find one where 2 and 7 are between 25 and 50\n",
    "between25_50_between25_50 = []\n",
    "# find one where 2 and 7 are identical and above 5\n",
    "above5_identical = []\n",
    "\n",
    "for gt in bp2_ph_per_gt:\n",
    "    if bp2_ph_per_gt[gt] > 25 and bp2_ph_per_gt[gt] > 50 and bp7_ph_per_gt[gt] > 25 and bp7_ph_per_gt[gt] > 50:\n",
    "        between25_50_between25_50.append(int(gt))\n",
    "    if bp2_ph_per_gt[gt] < 10 and bp7_ph_per_gt[gt] > 50:\n",
    "        below10_above50.append(int(gt))\n",
    "    if bp2_ph_per_gt[gt] > 5 and bp2_ph_per_gt[gt] == bp7_ph_per_gt[gt]:\n",
    "        above5_identical.append(int(gt))\n"
   ]
  },
  {
   "cell_type": "code",
   "execution_count": 5,
   "metadata": {},
   "outputs": [],
   "source": [
    "# Set up the functions for nussinov gp mapping with bp_rule 7 and 2\n",
    "alphabet = \"JKLM\"\n",
    "graph_path = \"/home/lgold/phd/research/projects/connectivity/rna_folding/data/graphs/\"\n",
    "min_loop_size = 3\n",
    "suboptimal = 2\n",
    "structures_max = 1000\n",
    "\n",
    "# import gp map data\n",
    "bp7_pairing = BasePairing(bases=alphabet,\n",
    "                      graph_path=graph_path, \n",
    "                      id=7)\n",
    "bp2_pairing = BasePairing(bases=alphabet,\n",
    "                      graph_path=graph_path, \n",
    "                      id=2)\n",
    "    \n",
    "\n",
    "bp7_mapper = lambda seq: nussinov(seq, \n",
    "                                base_pairing=bp7_pairing, \n",
    "                                min_loop_size=min_loop_size, \n",
    "                                suboptimal=suboptimal,\n",
    "                                structures_max=structures_max)\n",
    "                            \n",
    "bp2_mapper = lambda seq: nussinov(seq, \n",
    "                                base_pairing=bp2_pairing, \n",
    "                                min_loop_size=min_loop_size, \n",
    "                                suboptimal=suboptimal,\n",
    "                                structures_max=structures_max)\n"
   ]
  },
  {
   "cell_type": "code",
   "execution_count": 6,
   "metadata": {},
   "outputs": [
    {
     "name": "stdout",
     "output_type": "stream",
     "text": [
      "JJMMJMKKJKLL 67 5\n",
      "MMJJKKMKMLMK 54 7\n",
      "MLKKLJJKMJJM 51 9\n",
      "LMJKLJLLLJJJ 68 5\n",
      "LJLMLMJJLMJL 51 7\n",
      "LJKMLLJJMJML 53 9\n",
      "LMKKKMMJMJMJ 70 9\n",
      "KMKKKKMMMJKK 52 2\n",
      "KLLLJMMMLMJJ 51 9\n",
      "LLJLKJMJLMLJ 58 5\n"
     ]
    }
   ],
   "source": [
    "# get the nussinov gp mapping for 10 random candidate genotypes.\n",
    "np.random.seed(64066)\n",
    "n_genotypes = 10\n",
    "\n",
    "bp7_gp_map = {}\n",
    "bp2_gp_map = {}\n",
    "subset_gts = []\n",
    "subset_gts_num = []\n",
    "\n",
    "for i in np.random.randint(0, len(below10_above50), size=n_genotypes):\n",
    "    subset_gts_num.append(below10_above50[i])\n",
    "    gt = genotypes[below10_above50[i]]\n",
    "    subset_gts.append(gt)\n",
    "\n",
    "    bp7_gp_map[gt] = bp7_mapper(gt)\n",
    "    bp2_gp_map[gt] = bp2_mapper(gt)\n",
    "    print(gt, len(bp7_gp_map[gt]), len(bp2_gp_map[gt]))"
   ]
  },
  {
   "cell_type": "code",
   "execution_count": 7,
   "metadata": {},
   "outputs": [
    {
     "name": "stdout",
     "output_type": "stream",
     "text": [
      "Genotype\tNumber of ph. bp7\tNumber of ph. bp2\n",
      "JJMMJMKKJKLL \t 67 \t 5\n",
      "MMJJKKMKMLMK \t 54 \t 7\n",
      "MLKKLJJKMJJM \t 51 \t 9\n",
      "LMJKLJLLLJJJ \t 68 \t 5\n",
      "LJLMLMJJLMJL \t 51 \t 7\n",
      "LJKMLLJJMJML \t 53 \t 9\n",
      "LMKKKMMJMJMJ \t 70 \t 9\n",
      "KMKKKKMMMJKK \t 52 \t 2\n",
      "KLLLJMMMLMJJ \t 51 \t 9\n",
      "LLJLKJMJLMLJ \t 58 \t 5\n"
     ]
    }
   ],
   "source": [
    "print(\"Genotype\\tNumber of ph. bp7\\tNumber of ph. bp2\")\n",
    "for gt_id, gt in zip(subset_gts_num, subset_gts):\n",
    "    print(gt, \"\\t\", bp7_ph_per_gt[str(gt_id)], \"\\t\", bp2_ph_per_gt[str(gt_id)])"
   ]
  },
  {
   "cell_type": "code",
   "execution_count": 8,
   "metadata": {},
   "outputs": [
    {
     "name": "stdout",
     "output_type": "stream",
     "text": [
      "Phenotype list\n",
      "bp_7\tbp_2\n",
      ".(...)(....) \t ......(....)\n",
      "LLJLKJMJLMLJ \t LLJLKJMJLMLJ\n",
      "(....)(....) \t .....(...)..\n",
      "LLJLKJMJLMLJ \t LLJLKJMJLMLJ\n",
      "......(....) \t ..(......)..\n",
      "LLJLKJMJLMLJ \t LLJLKJMJLMLJ\n",
      "...(.(....)) \t ..(...).....\n",
      "LLJLKJMJLMLJ \t LLJLKJMJLMLJ\n",
      "...(.(...).) \t ............\n",
      "LLJLKJMJLMLJ \t LLJLKJMJLMLJ\n",
      "...((....).) \t \n",
      "LLJLKJMJLMLJ \t LLJLKJMJLMLJ\n",
      "...(.......) \t \n",
      "LLJLKJMJLMLJ \t LLJLKJMJLMLJ\n",
      ".(...(....)) \t \n",
      "LLJLKJMJLMLJ \t LLJLKJMJLMLJ\n",
      ".((..(...))) \t \n",
      "LLJLKJMJLMLJ \t LLJLKJMJLMLJ\n",
      ".((.(....))) \t \n",
      "LLJLKJMJLMLJ \t LLJLKJMJLMLJ\n",
      ".(((...)..)) \t \n",
      "LLJLKJMJLMLJ \t LLJLKJMJLMLJ\n",
      ".((.......)) \t \n",
      "LLJLKJMJLMLJ \t LLJLKJMJLMLJ\n",
      ".(...(...).) \t \n",
      "LLJLKJMJLMLJ \t LLJLKJMJLMLJ\n",
      ".(..(....).) \t \n",
      "LLJLKJMJLMLJ \t LLJLKJMJLMLJ\n",
      ".(((...).).) \t \n",
      "LLJLKJMJLMLJ \t LLJLKJMJLMLJ\n",
      ".((......).) \t \n",
      "LLJLKJMJLMLJ \t LLJLKJMJLMLJ\n",
      ".(((...))..) \t \n",
      "LLJLKJMJLMLJ \t LLJLKJMJLMLJ\n",
      ".((.....)..) \t \n",
      "LLJLKJMJLMLJ \t LLJLKJMJLMLJ\n",
      ".(.(...)...) \t \n",
      "LLJLKJMJLMLJ \t LLJLKJMJLMLJ\n",
      ".((...)....) \t \n",
      "LLJLKJMJLMLJ \t LLJLKJMJLMLJ\n",
      ".(.........) \t \n",
      "LLJLKJMJLMLJ \t LLJLKJMJLMLJ\n",
      "(....(....)) \t \n",
      "LLJLKJMJLMLJ \t LLJLKJMJLMLJ\n",
      "(.(..(...))) \t \n",
      "LLJLKJMJLMLJ \t LLJLKJMJLMLJ\n",
      "(.(.(....))) \t \n",
      "LLJLKJMJLMLJ \t LLJLKJMJLMLJ\n",
      "(.((...)..)) \t \n",
      "LLJLKJMJLMLJ \t LLJLKJMJLMLJ\n",
      "(.(.......)) \t \n",
      "LLJLKJMJLMLJ \t LLJLKJMJLMLJ\n",
      "(....(...).) \t \n",
      "LLJLKJMJLMLJ \t LLJLKJMJLMLJ\n",
      "(...(....).) \t \n",
      "LLJLKJMJLMLJ \t LLJLKJMJLMLJ\n",
      "(.((...).).) \t \n",
      "LLJLKJMJLMLJ \t LLJLKJMJLMLJ\n",
      "(.(......).) \t \n",
      "LLJLKJMJLMLJ \t LLJLKJMJLMLJ\n",
      "(.((...))..) \t \n",
      "LLJLKJMJLMLJ \t LLJLKJMJLMLJ\n",
      "(.(.....)..) \t \n",
      "LLJLKJMJLMLJ \t LLJLKJMJLMLJ\n",
      "(..(...)...) \t \n",
      "LLJLKJMJLMLJ \t LLJLKJMJLMLJ\n",
      "(((...))...) \t \n",
      "LLJLKJMJLMLJ \t LLJLKJMJLMLJ\n",
      "((.....)...) \t \n",
      "LLJLKJMJLMLJ \t LLJLKJMJLMLJ\n",
      "(.(...)....) \t \n",
      "LLJLKJMJLMLJ \t LLJLKJMJLMLJ\n",
      "((...).....) \t \n",
      "LLJLKJMJLMLJ \t LLJLKJMJLMLJ\n",
      "(..........) \t \n",
      "LLJLKJMJLMLJ \t LLJLKJMJLMLJ\n",
      ".....(....). \t \n",
      "LLJLKJMJLMLJ \t LLJLKJMJLMLJ\n",
      "..(..(...)). \t \n",
      "LLJLKJMJLMLJ \t LLJLKJMJLMLJ\n",
      "..(.(....)). \t \n",
      "LLJLKJMJLMLJ \t LLJLKJMJLMLJ\n",
      "..((...)..). \t \n",
      "LLJLKJMJLMLJ \t LLJLKJMJLMLJ\n",
      "..(.......). \t \n",
      "LLJLKJMJLMLJ \t LLJLKJMJLMLJ\n",
      ".....(...).. \t \n",
      "LLJLKJMJLMLJ \t LLJLKJMJLMLJ\n",
      "....(....).. \t \n",
      "LLJLKJMJLMLJ \t LLJLKJMJLMLJ\n",
      "..((...).).. \t \n",
      "LLJLKJMJLMLJ \t LLJLKJMJLMLJ\n",
      "..(......).. \t \n",
      "LLJLKJMJLMLJ \t LLJLKJMJLMLJ\n",
      "..((...))... \t \n",
      "LLJLKJMJLMLJ \t LLJLKJMJLMLJ\n",
      "..(.....)... \t \n",
      "LLJLKJMJLMLJ \t LLJLKJMJLMLJ\n",
      "...(...).... \t \n",
      "LLJLKJMJLMLJ \t LLJLKJMJLMLJ\n",
      ".((...)).... \t \n",
      "LLJLKJMJLMLJ \t LLJLKJMJLMLJ\n",
      ".(.....).... \t \n",
      "LLJLKJMJLMLJ \t LLJLKJMJLMLJ\n",
      "(.(...)).... \t \n",
      "LLJLKJMJLMLJ \t LLJLKJMJLMLJ\n",
      "((...).).... \t \n",
      "LLJLKJMJLMLJ \t LLJLKJMJLMLJ\n",
      "(......).... \t \n",
      "LLJLKJMJLMLJ \t LLJLKJMJLMLJ\n",
      "..(...)..... \t \n",
      "LLJLKJMJLMLJ \t LLJLKJMJLMLJ\n",
      ".(...)...... \t \n",
      "LLJLKJMJLMLJ \t LLJLKJMJLMLJ\n",
      "(....)...... \t \n",
      "LLJLKJMJLMLJ \t LLJLKJMJLMLJ\n"
     ]
    }
   ],
   "source": [
    "# print db\n",
    "gt = \"LLJLKJMJLMLJ\"\n",
    "print(\"Phenotype list\\nbp_7\\tbp_2\")\n",
    "for i in range(len(bp7_gp_map[gt])):\n",
    "    ph_bp7 = bp7_gp_map[gt][i]\n",
    "    try:\n",
    "        ph_bp2 = bp2_gp_map[gt][i]\n",
    "    except IndexError:\n",
    "        ph_bp2 = \"\"\n",
    "    print(ph_bp7, \"\\t\", ph_bp2)\n",
    "    print(gt, \"\\t\", gt)\n",
    "    \n",
    "\n",
    "# visualize db (e.g. with forna?)"
   ]
  },
  {
   "cell_type": "code",
   "execution_count": 41,
   "metadata": {},
   "outputs": [
    {
     "data": {
      "image/png": "[encoded data removed]",
      "text/plain": [
       "<Figure size 1800x700 with 10 Axes>"
      ]
     },
     "metadata": {},
     "output_type": "display_data"
    }
   ],
   "source": [
    "cols = 5\n",
    "rows = 2\n",
    "fig, axes = plt.subplots(nrows=rows, ncols=cols, figsize=(18, 7), sharey=True, sharex=True)\n",
    "\n",
    "for i in range(10):\n",
    "    rank_counts = []\n",
    "    with open(f\"../experiments/RNA12/suboptimal2_same_randomranking_compare_to_ref/bp_graph{i+2}/ranking1/gp_map.txt\", \"r\") as f:\n",
    "        for line in f:\n",
    "            l = line.strip().split(\" \")\n",
    "            rank_counts.append(len(l) - 1)\n",
    "\n",
    "        ax = axes[i//cols][i%cols]\n",
    "        ax.bar(np.arange(1, len(rank_counts)+1), rank_counts)\n",
    "        ph_count = len(np.where(np.array(rank_counts) > 0)[0])\n",
    "        ax.title.set_text(f\"bp rule {i+2}; n={ph_count}\")\n",
    "        ax.yaxis.set_tick_params(labelbottom=True)\n",
    "        ax.xaxis.set_tick_params(labelbottom=True)\n",
    "        ax.set_xlabel(\"Phenotype rank\")\n",
    "        ax.set_ylabel(\"Count\")\n",
    "\n",
    "plt.tight_layout()"
   ]
  },
  {
   "cell_type": "code",
   "execution_count": null,
   "metadata": {},
   "outputs": [],
   "source": []
  },
  {
   "cell_type": "code",
   "execution_count": null,
   "metadata": {},
   "outputs": [],
   "source": []
  }
 ],
 "metadata": {
  "kernelspec": {
   "display_name": "rna_folding-oqAGTxHT",
   "language": "python",
   "name": "python3"
  },
  "language_info": {
   "codemirror_mode": {
    "name": "ipython",
    "version": 3
   },
   "file_extension": ".py",
   "mimetype": "text/x-python",
   "name": "python",
   "nbconvert_exporter": "python",
   "pygments_lexer": "ipython3",
   "version": "3.8.17"
  }
 },
 "nbformat": 4,
 "nbformat_minor": 2
}
